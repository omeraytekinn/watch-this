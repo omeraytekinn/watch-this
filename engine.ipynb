{
 "metadata": {
  "language_info": {
   "codemirror_mode": {
    "name": "ipython",
    "version": 3
   },
   "file_extension": ".py",
   "mimetype": "text/x-python",
   "name": "python",
   "nbconvert_exporter": "python",
   "pygments_lexer": "ipython3",
   "version": "3.9.0-final"
  },
  "orig_nbformat": 2,
  "kernelspec": {
   "name": "python3",
   "display_name": "Python 3.9.0 64-bit ('watch-this-WuFWErEx': venv)",
   "metadata": {
    "interpreter": {
     "hash": "04a64976ceb863ab742d1b828e643cd9019f1473dba93a85055b4ef10717099a"
    }
   }
  }
 },
 "nbformat": 4,
 "nbformat_minor": 2,
 "cells": [
  {
   "cell_type": "code",
   "execution_count": 10,
   "metadata": {},
   "outputs": [
    {
     "output_type": "execute_result",
     "data": {
      "text/plain": [
       "                                    title                   genre  \\\n",
       "0                The Shawshank Redemption                   Drama   \n",
       "1                           The Godfather            Crime, Drama   \n",
       "2                         The Dark Knight    Action, Crime, Drama   \n",
       "3                  The Godfather: Part II            Crime, Drama   \n",
       "4                            12 Angry Men            Crime, Drama   \n",
       "..                                    ...                     ...   \n",
       "95                   Inglourious Basterds   Adventure, Drama, War   \n",
       "96  Eternal Sunshine of the Spotless Mind  Drama, Romance, Sci-Fi   \n",
       "97                                 Amélie         Comedy, Romance   \n",
       "98                                 Snatch           Comedy, Crime   \n",
       "99                    Requiem for a Dream                   Drama   \n",
       "\n",
       "    imdb_rating              director  \\\n",
       "0           9.3        Frank Darabont   \n",
       "1           9.2  Francis Ford Coppola   \n",
       "2           9.0     Christopher Nolan   \n",
       "3           9.0  Francis Ford Coppola   \n",
       "4           9.0          Sidney Lumet   \n",
       "..          ...                   ...   \n",
       "95          8.3     Quentin Tarantino   \n",
       "96          8.3         Michel Gondry   \n",
       "97          8.3    Jean-Pierre Jeunet   \n",
       "98          8.3           Guy Ritchie   \n",
       "99          8.3      Darren Aronofsky   \n",
       "\n",
       "                                                 cast  \n",
       "0   Tim Robbins, Morgan Freeman, Bob Gunton, Willi...  \n",
       "1   Marlon Brando, Al Pacino, James Caan, Diane Ke...  \n",
       "2   Christian Bale, Heath Ledger, Aaron Eckhart, M...  \n",
       "3   Al Pacino, Robert De Niro, Robert Duvall, Dian...  \n",
       "4   Henry Fonda, Lee J. Cobb, Martin Balsam, John ...  \n",
       "..                                                ...  \n",
       "95  Brad Pitt, Diane Kruger, Eli Roth, Mélanie Lau...  \n",
       "96  Jim Carrey, Kate Winslet, Tom Wilkinson, Gerry...  \n",
       "97  Audrey Tautou, Mathieu Kassovitz, Rufus, Lorel...  \n",
       "98  Jason Statham, Brad Pitt, Benicio Del Toro, De...  \n",
       "99  Ellen Burstyn, Jared Leto, Jennifer Connelly, ...  \n",
       "\n",
       "[100 rows x 5 columns]"
      ],
      "text/html": "<div>\n<style scoped>\n    .dataframe tbody tr th:only-of-type {\n        vertical-align: middle;\n    }\n\n    .dataframe tbody tr th {\n        vertical-align: top;\n    }\n\n    .dataframe thead th {\n        text-align: right;\n    }\n</style>\n<table border=\"1\" class=\"dataframe\">\n  <thead>\n    <tr style=\"text-align: right;\">\n      <th></th>\n      <th>title</th>\n      <th>genre</th>\n      <th>imdb_rating</th>\n      <th>director</th>\n      <th>cast</th>\n    </tr>\n  </thead>\n  <tbody>\n    <tr>\n      <th>0</th>\n      <td>The Shawshank Redemption</td>\n      <td>Drama</td>\n      <td>9.3</td>\n      <td>Frank Darabont</td>\n      <td>Tim Robbins, Morgan Freeman, Bob Gunton, Willi...</td>\n    </tr>\n    <tr>\n      <th>1</th>\n      <td>The Godfather</td>\n      <td>Crime, Drama</td>\n      <td>9.2</td>\n      <td>Francis Ford Coppola</td>\n      <td>Marlon Brando, Al Pacino, James Caan, Diane Ke...</td>\n    </tr>\n    <tr>\n      <th>2</th>\n      <td>The Dark Knight</td>\n      <td>Action, Crime, Drama</td>\n      <td>9.0</td>\n      <td>Christopher Nolan</td>\n      <td>Christian Bale, Heath Ledger, Aaron Eckhart, M...</td>\n    </tr>\n    <tr>\n      <th>3</th>\n      <td>The Godfather: Part II</td>\n      <td>Crime, Drama</td>\n      <td>9.0</td>\n      <td>Francis Ford Coppola</td>\n      <td>Al Pacino, Robert De Niro, Robert Duvall, Dian...</td>\n    </tr>\n    <tr>\n      <th>4</th>\n      <td>12 Angry Men</td>\n      <td>Crime, Drama</td>\n      <td>9.0</td>\n      <td>Sidney Lumet</td>\n      <td>Henry Fonda, Lee J. Cobb, Martin Balsam, John ...</td>\n    </tr>\n    <tr>\n      <th>...</th>\n      <td>...</td>\n      <td>...</td>\n      <td>...</td>\n      <td>...</td>\n      <td>...</td>\n    </tr>\n    <tr>\n      <th>95</th>\n      <td>Inglourious Basterds</td>\n      <td>Adventure, Drama, War</td>\n      <td>8.3</td>\n      <td>Quentin Tarantino</td>\n      <td>Brad Pitt, Diane Kruger, Eli Roth, Mélanie Lau...</td>\n    </tr>\n    <tr>\n      <th>96</th>\n      <td>Eternal Sunshine of the Spotless Mind</td>\n      <td>Drama, Romance, Sci-Fi</td>\n      <td>8.3</td>\n      <td>Michel Gondry</td>\n      <td>Jim Carrey, Kate Winslet, Tom Wilkinson, Gerry...</td>\n    </tr>\n    <tr>\n      <th>97</th>\n      <td>Amélie</td>\n      <td>Comedy, Romance</td>\n      <td>8.3</td>\n      <td>Jean-Pierre Jeunet</td>\n      <td>Audrey Tautou, Mathieu Kassovitz, Rufus, Lorel...</td>\n    </tr>\n    <tr>\n      <th>98</th>\n      <td>Snatch</td>\n      <td>Comedy, Crime</td>\n      <td>8.3</td>\n      <td>Guy Ritchie</td>\n      <td>Jason Statham, Brad Pitt, Benicio Del Toro, De...</td>\n    </tr>\n    <tr>\n      <th>99</th>\n      <td>Requiem for a Dream</td>\n      <td>Drama</td>\n      <td>8.3</td>\n      <td>Darren Aronofsky</td>\n      <td>Ellen Burstyn, Jared Leto, Jennifer Connelly, ...</td>\n    </tr>\n  </tbody>\n</table>\n<p>100 rows × 5 columns</p>\n</div>"
     },
     "metadata": {},
     "execution_count": 10
    }
   ],
   "source": [
    "from sqlalchemy import create_engine\n",
    "from sqlalchemy.orm import sessionmaker\n",
    "from models import Movie, Actor, Director, Genre, create_db\n",
    "from sklearn.metrics.pairwise import cosine_similarity\n",
    "from sklearn.feature_extraction.text import CountVectorizer\n",
    "import pandas as pd\n",
    "engine = create_engine('sqlite:///myblog.db', echo=False)\n",
    "Session = sessionmaker(bind=engine)\n",
    "session = Session()\n",
    "\n",
    "\n",
    "def create_cosine_matrix(arr):\n",
    "    cm = CountVectorizer().fit_transform(arr)\n",
    "    cs = cosine_similarity(cm)\n",
    "    return cs\n",
    "\n",
    "\n",
    "def get_similars(cosine_matrix, row, num):\n",
    "    scores = {i: s for i, s in enumerate(cosine_matrix[row]) if row != i}\n",
    "    scores = scores.items()\n",
    "    scores = sorted(scores, key=lambda x: x[1], reverse=True)\n",
    "    similars = [i[0] for i in scores[:num]]\n",
    "    return similars\n",
    "\n",
    "\n",
    "df = pd.read_csv(\"movies.csv\")\n",
    "\n",
    "df = df[[\"title\", \"genre\", \"imdb_rating\", \"director\", \"cast\"]]\n",
    "df"
   ]
  },
  {
   "cell_type": "code",
   "execution_count": 51,
   "metadata": {},
   "outputs": [
    {
     "output_type": "stream",
     "name": "stdout",
     "text": [
      "The Shawshank Redemption Drama 9.3 Frank Darabont Tim Robbins, Morgan Freeman, Bob Gunton, William Sadler The Godfather Crime, Drama 9.2 Francis Ford Coppola Marlon Brando, Al Pacino, James Caan, Diane Keaton The Dark Knight Action, Crime, Drama 9.0 Christopher Nolan Christian Bale, Heath Ledger, Aaron Eckhart, Michael Caine The Godfather: Part II Crime, Drama 9.0 Francis Ford Coppola Al Pacino, Robert De Niro, Robert Duvall, Diane Keaton 12 Angry Men Crime, Drama 9.0 Sidney Lumet Henry Fonda, Lee J. Cobb, Martin Balsam, John Fiedler The Lord of the Rings: The Return of the King Action, Adventure, Drama 8.9 Peter Jackson Elijah Wood, Viggo Mortensen, Ian McKellen, Orlando Bloom Pulp Fiction Crime, Drama 8.9 Quentin Tarantino John Travolta, Uma Thurman, Samuel L. Jackson, Bruce Willis Schindler's List Biography, Drama, History 8.9 Steven Spielberg Liam Neeson, Ralph Fiennes, Ben Kingsley, Caroline Goodall Inception Action, Adventure, Sci-Fi 8.8 Christopher Nolan Leonardo DiCaprio, Joseph Gordon-Levitt, Elliot Page, Ken Watanabe Fight Club Drama 8.8 David Fincher Brad Pitt, Edward Norton, Meat Loaf, Zach Grenier\nThe Matrix\nForrest Gump\nStar Wars\nThe Departed\nThe Pianist\nLa vita è bella\nPaths of Glory\n3 Idiots\nAlien\nThe Shining\nStar Wars: Episode V - The Empire Strikes Back\nKimi no na wa.\nAmélie\nGladiator\nThe Silence of the Lambs\nTerminator 2: Judgment Day\nApocalypse Now\nWhiplash\nVikram Vedha\nHamilton\n"
     ]
    }
   ],
   "source": [
    "seens = []\n",
    "def combine(row):\n",
    "    return \" \".join([str(c) for c in row])\n",
    "\n",
    "for i in range(len(df.head(10))):\n",
    "    seens.append(combine(df.iloc[i]))\n",
    "seens = \" \".join(seens)\n",
    "print(seens)\n",
    "unseens = []\n",
    "u = df[10:]\n",
    "for i in range(len(u)):\n",
    "    unseens.append(combine(u.iloc[i]))\n",
    "\n",
    "m = create_cosine_matrix([seens, *unseens])\n",
    "similars = get_similars(m, 0, 20)\n",
    "for i in similars:\n",
    "    print(f\"{u['title'].iloc[i]}\")"
   ]
  },
  {
   "cell_type": "code",
   "execution_count": null,
   "metadata": {},
   "outputs": [],
   "source": []
  }
 ]
}